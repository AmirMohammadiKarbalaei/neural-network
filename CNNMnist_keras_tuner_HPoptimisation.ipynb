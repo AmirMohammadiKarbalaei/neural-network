{
  "nbformat": 4,
  "nbformat_minor": 0,
  "metadata": {
    "colab": {
      "provenance": [],
      "authorship_tag": "ABX9TyOziPJpgFZYqC9lG4uEnUbI",
      "include_colab_link": true
    },
    "kernelspec": {
      "name": "python3",
      "display_name": "Python 3"
    },
    "language_info": {
      "name": "python"
    },
    "accelerator": "GPU",
    "gpuClass": "standard"
  },
  "cells": [
    {
      "cell_type": "markdown",
      "metadata": {
        "id": "view-in-github",
        "colab_type": "text"
      },
      "source": [
        "<a href=\"https://colab.research.google.com/github/AmirMohammadiKarbalaei/neural-network/blob/CNN_optimisazion/CNNMnist_keras_tuner_HPoptimisation.ipynb\" target=\"_parent\"><img src=\"https://colab.research.google.com/assets/colab-badge.svg\" alt=\"Open In Colab\"/></a>"
      ]
    },
    {
      "cell_type": "code",
      "source": [
        "pip install keras_tuner"
      ],
      "metadata": {
        "id": "r7aRDXvQ4BK7"
      },
      "execution_count": null,
      "outputs": []
    },
    {
      "cell_type": "code",
      "execution_count": 3,
      "metadata": {
        "id": "xFBcRh273eNj"
      },
      "outputs": [],
      "source": [
        "from keras.datasets import mnist\n",
        "from keras.models import Sequential\n",
        "from keras.layers import Dense, Flatten, Dropout, Conv2D, MaxPooling2D, Dropout\n",
        "from keras.utils import np_utils\n",
        "import numpy as np\n",
        "import json"
      ]
    },
    {
      "cell_type": "code",
      "source": [
        "#loading data\n",
        "(X_train,y_train), (X_test, y_test) = mnist.load_data()\n",
        "print(type(X_train), len(y_test))\n",
        "X_train = X_train.astype(\"float32\")\n",
        "X_train/=255 #data normalization\n",
        "X_test = X_test.astype(\"float32\")\n",
        "X_test/=255  #data normalization\n",
        "img_width = X_train.shape[1]\n",
        "img_height = X_train.shape[2]"
      ],
      "metadata": {
        "colab": {
          "base_uri": "https://localhost:8080/"
        },
        "id": "d7b_kMqx3tSW",
        "outputId": "e8eeeb40-ac2d-4b2f-d090-62a57924acfe"
      },
      "execution_count": 4,
      "outputs": [
        {
          "output_type": "stream",
          "name": "stdout",
          "text": [
            "Downloading data from https://storage.googleapis.com/tensorflow/tf-keras-datasets/mnist.npz\n",
            "11490434/11490434 [==============================] - 1s 0us/step\n",
            "<class 'numpy.ndarray'> 10000\n"
          ]
        }
      ]
    },
    {
      "cell_type": "code",
      "source": [
        "##Reshaping input data\n",
        "img_width = 28\n",
        "img_height = 28\n",
        "X_train = X_train.reshape(X_train.shape[0],img_width, img_height,1) \n",
        "X_test = X_test.reshape(X_test.shape[0],img_width, img_height,1) "
      ],
      "metadata": {
        "id": "C56K9oYb3wVZ"
      },
      "execution_count": 5,
      "outputs": []
    },
    {
      "cell_type": "code",
      "source": [
        "#One hot encoding\n",
        "y_train = np_utils.to_categorical(y_train)\n",
        "y_test = np_utils.to_categorical(y_test)\n",
        "\n",
        "labels = range(10)\n",
        "num_classes = y_test.shape[1]"
      ],
      "metadata": {
        "id": "VeL1habv3xfe"
      },
      "execution_count": 6,
      "outputs": []
    },
    {
      "cell_type": "code",
      "source": [
        "def model_builder(hp):\n",
        "    \n",
        "    \n",
        "    hp_layer_1 = hp.Int('layer_2', min_value=32, max_value=256, step=32)\n",
        "    hp_layer_2 = hp.Int('layer_1', min_value=32, max_value=256, step=32)\n",
        "    #hp_learning_rate = hp.Choice('learning_rate', values=[1e-2, 1e-3, 1e-4])\n",
        "    #hp_activation = hp.Choice('activation', values=['relu', 'tanh'])\n",
        "    \n",
        "    model = tf.keras.Sequential()\n",
        "    model.add(Conv2D(hp_layer_1,\n",
        "                    (4,4),\n",
        "                    input_shape = (28,28,1),\n",
        "                    activation = \"relu\"))\n",
        "    model.add(MaxPooling2D(pool_size = (2,2)))\n",
        "    model.add(Flatten())\n",
        "    model.add(Dropout(0.2))\n",
        "    model.add(Dense(hp_layer_2,activation=\"relu\"))\n",
        "    model.add(Dropout(0.2))\n",
        "    model.add(Dense(10,activation = \"softmax\"))\n",
        "    model.compile(loss = \"categorical_crossentropy\", \n",
        "                  optimizer = \"adam\",\n",
        "                  metrics = [\"accuracy\"])\n",
        "    return model"
      ],
      "metadata": {
        "id": "42AfI6dD33cb"
      },
      "execution_count": 7,
      "outputs": []
    },
    {
      "cell_type": "code",
      "source": [
        "import keras_tuner as kt\n",
        "import tensorflow as tf\n",
        "tuner = kt.Hyperband(model_builder,\n",
        "                    objective = 'val_accuracy',\n",
        "                     max_epochs=10,\n",
        "                     factor=3,\n",
        "                     directory='dir',\n",
        "                    project_name = 'x')"
      ],
      "metadata": {
        "id": "zLXs0msL352v"
      },
      "execution_count": 8,
      "outputs": []
    },
    {
      "cell_type": "code",
      "source": [
        "stop_early = tf.keras.callbacks.EarlyStopping(monitor = 'val_loss', patience=3)"
      ],
      "metadata": {
        "id": "QxrrMPxB4Alz"
      },
      "execution_count": 9,
      "outputs": []
    },
    {
      "cell_type": "code",
      "source": [
        "tuner.search(X_train,y_train, epochs=50, validation_split=0.2,callbacks = [stop_early])"
      ],
      "metadata": {
        "colab": {
          "base_uri": "https://localhost:8080/"
        },
        "id": "43euAu8X4HSI",
        "outputId": "2b0bb537-6cc8-438c-f078-babf7b4b02de"
      },
      "execution_count": 10,
      "outputs": [
        {
          "output_type": "stream",
          "name": "stdout",
          "text": [
            "Trial 30 Complete [00h 01m 24s]\n",
            "val_accuracy: 0.9893333315849304\n",
            "\n",
            "Best val_accuracy So Far: 0.9898333549499512\n",
            "Total elapsed time: 00h 18m 37s\n"
          ]
        }
      ]
    },
    {
      "cell_type": "code",
      "source": [
        "best_hps = tuner.get_best_hyperparameters(num_trials=1)[0]"
      ],
      "metadata": {
        "id": "DvLT83IH561C"
      },
      "execution_count": 11,
      "outputs": []
    },
    {
      "cell_type": "code",
      "source": [
        "model = tuner.hypermodel.build(best_hps)\n",
        "history = model.fit(X_train,y_train,epochs = 50,validation_split = 0.2,\n",
        "                   callbacks = [stop_early])"
      ],
      "metadata": {
        "colab": {
          "base_uri": "https://localhost:8080/"
        },
        "id": "rZMLLAwt70rN",
        "outputId": "85d3e8ac-37e3-4c71-9231-f1188a69d9d1"
      },
      "execution_count": 12,
      "outputs": [
        {
          "output_type": "stream",
          "name": "stdout",
          "text": [
            "Epoch 1/50\n",
            "1500/1500 [==============================] - 9s 5ms/step - loss: 0.1801 - accuracy: 0.9452 - val_loss: 0.0569 - val_accuracy: 0.9828\n",
            "Epoch 2/50\n",
            "1500/1500 [==============================] - 7s 4ms/step - loss: 0.0689 - accuracy: 0.9783 - val_loss: 0.0522 - val_accuracy: 0.9850\n",
            "Epoch 3/50\n",
            "1500/1500 [==============================] - 8s 5ms/step - loss: 0.0507 - accuracy: 0.9844 - val_loss: 0.0462 - val_accuracy: 0.9868\n",
            "Epoch 4/50\n",
            "1500/1500 [==============================] - 7s 5ms/step - loss: 0.0391 - accuracy: 0.9877 - val_loss: 0.0461 - val_accuracy: 0.9865\n",
            "Epoch 5/50\n",
            "1500/1500 [==============================] - 7s 5ms/step - loss: 0.0311 - accuracy: 0.9897 - val_loss: 0.0487 - val_accuracy: 0.9868\n",
            "Epoch 6/50\n",
            "1500/1500 [==============================] - 8s 5ms/step - loss: 0.0260 - accuracy: 0.9912 - val_loss: 0.0523 - val_accuracy: 0.9864\n",
            "Epoch 7/50\n",
            "1500/1500 [==============================] - 7s 4ms/step - loss: 0.0231 - accuracy: 0.9920 - val_loss: 0.0434 - val_accuracy: 0.9887\n",
            "Epoch 8/50\n",
            "1500/1500 [==============================] - 7s 5ms/step - loss: 0.0187 - accuracy: 0.9936 - val_loss: 0.0572 - val_accuracy: 0.9877\n",
            "Epoch 9/50\n",
            "1500/1500 [==============================] - 7s 5ms/step - loss: 0.0165 - accuracy: 0.9943 - val_loss: 0.0632 - val_accuracy: 0.9883\n",
            "Epoch 10/50\n",
            "1500/1500 [==============================] - 7s 5ms/step - loss: 0.0158 - accuracy: 0.9944 - val_loss: 0.0469 - val_accuracy: 0.9893\n"
          ]
        }
      ]
    },
    {
      "cell_type": "code",
      "source": [
        "import pandas as pd\n",
        "pd.DataFrame(history.history)"
      ],
      "metadata": {
        "colab": {
          "base_uri": "https://localhost:8080/",
          "height": 363
        },
        "id": "p-MC1hb-74Y2",
        "outputId": "8ef3be66-7c11-425c-cc1e-461c45d5c5df"
      },
      "execution_count": 14,
      "outputs": [
        {
          "output_type": "execute_result",
          "data": {
            "text/plain": [
              "       loss  accuracy  val_loss  val_accuracy\n",
              "0  0.180143  0.945167  0.056899      0.982833\n",
              "1  0.068874  0.978250  0.052209      0.985000\n",
              "2  0.050687  0.984417  0.046197      0.986750\n",
              "3  0.039142  0.987688  0.046130      0.986500\n",
              "4  0.031117  0.989667  0.048741      0.986750\n",
              "5  0.025976  0.991229  0.052260      0.986417\n",
              "6  0.023140  0.992021  0.043376      0.988750\n",
              "7  0.018729  0.993563  0.057203      0.987667\n",
              "8  0.016531  0.994271  0.063198      0.988250\n",
              "9  0.015814  0.994417  0.046884      0.989333"
            ],
            "text/html": [
              "\n",
              "  <div id=\"df-f3a3ca64-8369-4a57-ac2c-7527d98384c4\">\n",
              "    <div class=\"colab-df-container\">\n",
              "      <div>\n",
              "<style scoped>\n",
              "    .dataframe tbody tr th:only-of-type {\n",
              "        vertical-align: middle;\n",
              "    }\n",
              "\n",
              "    .dataframe tbody tr th {\n",
              "        vertical-align: top;\n",
              "    }\n",
              "\n",
              "    .dataframe thead th {\n",
              "        text-align: right;\n",
              "    }\n",
              "</style>\n",
              "<table border=\"1\" class=\"dataframe\">\n",
              "  <thead>\n",
              "    <tr style=\"text-align: right;\">\n",
              "      <th></th>\n",
              "      <th>loss</th>\n",
              "      <th>accuracy</th>\n",
              "      <th>val_loss</th>\n",
              "      <th>val_accuracy</th>\n",
              "    </tr>\n",
              "  </thead>\n",
              "  <tbody>\n",
              "    <tr>\n",
              "      <th>0</th>\n",
              "      <td>0.180143</td>\n",
              "      <td>0.945167</td>\n",
              "      <td>0.056899</td>\n",
              "      <td>0.982833</td>\n",
              "    </tr>\n",
              "    <tr>\n",
              "      <th>1</th>\n",
              "      <td>0.068874</td>\n",
              "      <td>0.978250</td>\n",
              "      <td>0.052209</td>\n",
              "      <td>0.985000</td>\n",
              "    </tr>\n",
              "    <tr>\n",
              "      <th>2</th>\n",
              "      <td>0.050687</td>\n",
              "      <td>0.984417</td>\n",
              "      <td>0.046197</td>\n",
              "      <td>0.986750</td>\n",
              "    </tr>\n",
              "    <tr>\n",
              "      <th>3</th>\n",
              "      <td>0.039142</td>\n",
              "      <td>0.987688</td>\n",
              "      <td>0.046130</td>\n",
              "      <td>0.986500</td>\n",
              "    </tr>\n",
              "    <tr>\n",
              "      <th>4</th>\n",
              "      <td>0.031117</td>\n",
              "      <td>0.989667</td>\n",
              "      <td>0.048741</td>\n",
              "      <td>0.986750</td>\n",
              "    </tr>\n",
              "    <tr>\n",
              "      <th>5</th>\n",
              "      <td>0.025976</td>\n",
              "      <td>0.991229</td>\n",
              "      <td>0.052260</td>\n",
              "      <td>0.986417</td>\n",
              "    </tr>\n",
              "    <tr>\n",
              "      <th>6</th>\n",
              "      <td>0.023140</td>\n",
              "      <td>0.992021</td>\n",
              "      <td>0.043376</td>\n",
              "      <td>0.988750</td>\n",
              "    </tr>\n",
              "    <tr>\n",
              "      <th>7</th>\n",
              "      <td>0.018729</td>\n",
              "      <td>0.993563</td>\n",
              "      <td>0.057203</td>\n",
              "      <td>0.987667</td>\n",
              "    </tr>\n",
              "    <tr>\n",
              "      <th>8</th>\n",
              "      <td>0.016531</td>\n",
              "      <td>0.994271</td>\n",
              "      <td>0.063198</td>\n",
              "      <td>0.988250</td>\n",
              "    </tr>\n",
              "    <tr>\n",
              "      <th>9</th>\n",
              "      <td>0.015814</td>\n",
              "      <td>0.994417</td>\n",
              "      <td>0.046884</td>\n",
              "      <td>0.989333</td>\n",
              "    </tr>\n",
              "  </tbody>\n",
              "</table>\n",
              "</div>\n",
              "      <button class=\"colab-df-convert\" onclick=\"convertToInteractive('df-f3a3ca64-8369-4a57-ac2c-7527d98384c4')\"\n",
              "              title=\"Convert this dataframe to an interactive table.\"\n",
              "              style=\"display:none;\">\n",
              "        \n",
              "  <svg xmlns=\"http://www.w3.org/2000/svg\" height=\"24px\"viewBox=\"0 0 24 24\"\n",
              "       width=\"24px\">\n",
              "    <path d=\"M0 0h24v24H0V0z\" fill=\"none\"/>\n",
              "    <path d=\"M18.56 5.44l.94 2.06.94-2.06 2.06-.94-2.06-.94-.94-2.06-.94 2.06-2.06.94zm-11 1L8.5 8.5l.94-2.06 2.06-.94-2.06-.94L8.5 2.5l-.94 2.06-2.06.94zm10 10l.94 2.06.94-2.06 2.06-.94-2.06-.94-.94-2.06-.94 2.06-2.06.94z\"/><path d=\"M17.41 7.96l-1.37-1.37c-.4-.4-.92-.59-1.43-.59-.52 0-1.04.2-1.43.59L10.3 9.45l-7.72 7.72c-.78.78-.78 2.05 0 2.83L4 21.41c.39.39.9.59 1.41.59.51 0 1.02-.2 1.41-.59l7.78-7.78 2.81-2.81c.8-.78.8-2.07 0-2.86zM5.41 20L4 18.59l7.72-7.72 1.47 1.35L5.41 20z\"/>\n",
              "  </svg>\n",
              "      </button>\n",
              "      \n",
              "  <style>\n",
              "    .colab-df-container {\n",
              "      display:flex;\n",
              "      flex-wrap:wrap;\n",
              "      gap: 12px;\n",
              "    }\n",
              "\n",
              "    .colab-df-convert {\n",
              "      background-color: #E8F0FE;\n",
              "      border: none;\n",
              "      border-radius: 50%;\n",
              "      cursor: pointer;\n",
              "      display: none;\n",
              "      fill: #1967D2;\n",
              "      height: 32px;\n",
              "      padding: 0 0 0 0;\n",
              "      width: 32px;\n",
              "    }\n",
              "\n",
              "    .colab-df-convert:hover {\n",
              "      background-color: #E2EBFA;\n",
              "      box-shadow: 0px 1px 2px rgba(60, 64, 67, 0.3), 0px 1px 3px 1px rgba(60, 64, 67, 0.15);\n",
              "      fill: #174EA6;\n",
              "    }\n",
              "\n",
              "    [theme=dark] .colab-df-convert {\n",
              "      background-color: #3B4455;\n",
              "      fill: #D2E3FC;\n",
              "    }\n",
              "\n",
              "    [theme=dark] .colab-df-convert:hover {\n",
              "      background-color: #434B5C;\n",
              "      box-shadow: 0px 1px 3px 1px rgba(0, 0, 0, 0.15);\n",
              "      filter: drop-shadow(0px 1px 2px rgba(0, 0, 0, 0.3));\n",
              "      fill: #FFFFFF;\n",
              "    }\n",
              "  </style>\n",
              "\n",
              "      <script>\n",
              "        const buttonEl =\n",
              "          document.querySelector('#df-f3a3ca64-8369-4a57-ac2c-7527d98384c4 button.colab-df-convert');\n",
              "        buttonEl.style.display =\n",
              "          google.colab.kernel.accessAllowed ? 'block' : 'none';\n",
              "\n",
              "        async function convertToInteractive(key) {\n",
              "          const element = document.querySelector('#df-f3a3ca64-8369-4a57-ac2c-7527d98384c4');\n",
              "          const dataTable =\n",
              "            await google.colab.kernel.invokeFunction('convertToInteractive',\n",
              "                                                     [key], {});\n",
              "          if (!dataTable) return;\n",
              "\n",
              "          const docLinkHtml = 'Like what you see? Visit the ' +\n",
              "            '<a target=\"_blank\" href=https://colab.research.google.com/notebooks/data_table.ipynb>data table notebook</a>'\n",
              "            + ' to learn more about interactive tables.';\n",
              "          element.innerHTML = '';\n",
              "          dataTable['output_type'] = 'display_data';\n",
              "          await google.colab.output.renderOutput(dataTable, element);\n",
              "          const docLink = document.createElement('div');\n",
              "          docLink.innerHTML = docLinkHtml;\n",
              "          element.appendChild(docLink);\n",
              "        }\n",
              "      </script>\n",
              "    </div>\n",
              "  </div>\n",
              "  "
            ]
          },
          "metadata": {},
          "execution_count": 14
        }
      ]
    },
    {
      "cell_type": "code",
      "source": [
        "tf.keras.models.save_model(model, \"model-CNN-Mnist-besthps.h5\")"
      ],
      "metadata": {
        "id": "H0Yc393P--A6"
      },
      "execution_count": 15,
      "outputs": []
    }
  ]
}
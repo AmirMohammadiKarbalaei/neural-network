{
 "cells": [
  {
   "cell_type": "code",
   "execution_count": 1,
   "id": "b23531c4",
   "metadata": {},
   "outputs": [],
   "source": [
    "from keras.datasets import mnist\n",
    "from keras.models import Sequential\n",
    "from keras.layers import Dense, Flatten, Dropout, Conv2D, MaxPooling2D, Dropout\n",
    "from keras.utils import np_utils\n",
    "import wandb\n",
    "import numpy as np\n",
    "import json\n",
    "from wandb.keras import WandbCallback"
   ]
  },
  {
   "cell_type": "code",
   "execution_count": 2,
   "id": "c4a36e3f",
   "metadata": {
    "scrolled": true
   },
   "outputs": [
    {
     "name": "stderr",
     "output_type": "stream",
     "text": [
      "\u001b[34m\u001b[1mwandb\u001b[0m: Currently logged in as: \u001b[33ma-mohammadikarbalaei\u001b[0m (use `wandb login --relogin` to force relogin)\n",
      "\u001b[34m\u001b[1mwandb\u001b[0m: wandb version 0.13.5 is available!  To upgrade, please run:\n",
      "\u001b[34m\u001b[1mwandb\u001b[0m:  $ pip install wandb --upgrade\n"
     ]
    },
    {
     "data": {
      "text/html": [
       "\n",
       "                Tracking run with wandb version 0.10.11<br/>\n",
       "                Syncing run <strong style=\"color:#cdcd00\">kind-jazz-19</strong> to <a href=\"https://wandb.ai\" target=\"_blank\">Weights & Biases</a> <a href=\"https://docs.wandb.com/integrations/jupyter.html\" target=\"_blank\">(Documentation)</a>.<br/>\n",
       "                Project page: <a href=\"https://wandb.ai/a-mohammadikarbalaei/uncategorized\" target=\"_blank\">https://wandb.ai/a-mohammadikarbalaei/uncategorized</a><br/>\n",
       "                Run page: <a href=\"https://wandb.ai/a-mohammadikarbalaei/uncategorized/runs/1r6wf92k\" target=\"_blank\">https://wandb.ai/a-mohammadikarbalaei/uncategorized/runs/1r6wf92k</a><br/>\n",
       "                Run data is saved locally in <code>C:\\Users\\amoha\\wandb\\run-20221201_101748-1r6wf92k</code><br/><br/>\n",
       "            "
      ],
      "text/plain": [
       "<IPython.core.display.HTML object>"
      ]
     },
     "metadata": {},
     "output_type": "display_data"
    }
   ],
   "source": [
    "#logging code\n",
    "run = wandb.init()\n",
    "config = run.config"
   ]
  },
  {
   "cell_type": "code",
   "execution_count": null,
   "id": "8c8cc19a",
   "metadata": {},
   "outputs": [],
   "source": [
    "!pip install wandb==0.10.11"
   ]
  },
  {
   "cell_type": "code",
   "execution_count": 41,
   "id": "f590c0da",
   "metadata": {},
   "outputs": [
    {
     "name": "stdout",
     "output_type": "stream",
     "text": [
      "<class 'numpy.ndarray'> 10000\n",
      "<class 'numpy.ndarray'>\n"
     ]
    }
   ],
   "source": [
    "#loading data\n",
    "(X_train,y_train), (X_test, y_test) = mnist.load_data()\n",
    "print(type(X_train), len(y_test))\n",
    "X_train = X_train.astype(\"float32\")\n",
    "X_train/=255 #data normalization\n",
    "X_test = X_test.astype(\"float32\")\n",
    "X_test/=255  #data normalization\n",
    "img_width = X_train.shape[1]\n",
    "img_height = X_train.shape[2]"
   ]
  },
  {
   "cell_type": "code",
   "execution_count": 47,
   "id": "11e5c6a6",
   "metadata": {},
   "outputs": [
    {
     "data": {
      "text/plain": [
       "((60000, 28, 28), (60000,))"
      ]
     },
     "execution_count": 47,
     "metadata": {},
     "output_type": "execute_result"
    }
   ],
   "source": [
    "X_train.shape, y_train.shape"
   ]
  },
  {
   "cell_type": "code",
   "execution_count": 15,
   "id": "6b427b4f",
   "metadata": {
    "scrolled": true
   },
   "outputs": [],
   "source": [
    "##Reshaping input data\n",
    "config.img_width = 28\n",
    "config.img_height = 28\n",
    "X_train = X_train.reshape(X_train.shape[0],img_width, img_height,1) \n",
    "X_test = X_test.reshape(X_test.shape[0],img_width, img_height,1) "
   ]
  },
  {
   "cell_type": "code",
   "execution_count": null,
   "id": "6d333a4e",
   "metadata": {},
   "outputs": [],
   "source": []
  },
  {
   "cell_type": "code",
   "execution_count": 16,
   "id": "0e741f4f",
   "metadata": {},
   "outputs": [],
   "source": [
    "#One hot encoding\n",
    "y_train = np_utils.to_categorical(y_train)\n",
    "y_test = np_utils.to_categorical(y_test)\n",
    "\n",
    "labels = range(10)\n",
    "num_classes = y_test.shape[1]"
   ]
  },
  {
   "cell_type": "code",
   "execution_count": 25,
   "id": "cce19f87",
   "metadata": {},
   "outputs": [
    {
     "name": "stdout",
     "output_type": "stream",
     "text": [
      "Epoch 1/10\n",
      "1875/1875 [==============================] - ETA: 0s - loss: 0.2553 - accuracy: 0.9223"
     ]
    },
    {
     "name": "stderr",
     "output_type": "stream",
     "text": [
      "\u001b[34m\u001b[1mwandb\u001b[0m: \u001b[33mWARNING\u001b[0m No validation_data set, pass a generator to the callback.\n"
     ]
    },
    {
     "name": "stdout",
     "output_type": "stream",
     "text": [
      "1875/1875 [==============================] - 31s 16ms/step - loss: 0.2553 - accuracy: 0.9223 - val_loss: 0.0763 - val_accuracy: 0.9771\n",
      "Epoch 2/10\n",
      "1873/1875 [============================>.] - ETA: 0s - loss: 0.1074 - accuracy: 0.9671"
     ]
    },
    {
     "name": "stderr",
     "output_type": "stream",
     "text": [
      "\u001b[34m\u001b[1mwandb\u001b[0m: \u001b[33mWARNING\u001b[0m No validation_data set, pass a generator to the callback.\n"
     ]
    },
    {
     "name": "stdout",
     "output_type": "stream",
     "text": [
      "1875/1875 [==============================] - 30s 16ms/step - loss: 0.1073 - accuracy: 0.9671 - val_loss: 0.0490 - val_accuracy: 0.9827\n",
      "Epoch 3/10\n",
      "1875/1875 [==============================] - ETA: 0s - loss: 0.0865 - accuracy: 0.9732"
     ]
    },
    {
     "name": "stderr",
     "output_type": "stream",
     "text": [
      "\u001b[34m\u001b[1mwandb\u001b[0m: \u001b[33mWARNING\u001b[0m No validation_data set, pass a generator to the callback.\n"
     ]
    },
    {
     "name": "stdout",
     "output_type": "stream",
     "text": [
      "1875/1875 [==============================] - 30s 16ms/step - loss: 0.0865 - accuracy: 0.9732 - val_loss: 0.0471 - val_accuracy: 0.9851\n",
      "Epoch 4/10\n",
      "1874/1875 [============================>.] - ETA: 0s - loss: 0.0704 - accuracy: 0.9780"
     ]
    },
    {
     "name": "stderr",
     "output_type": "stream",
     "text": [
      "\u001b[34m\u001b[1mwandb\u001b[0m: \u001b[33mWARNING\u001b[0m No validation_data set, pass a generator to the callback.\n"
     ]
    },
    {
     "name": "stdout",
     "output_type": "stream",
     "text": [
      "1875/1875 [==============================] - 27s 14ms/step - loss: 0.0705 - accuracy: 0.9780 - val_loss: 0.0394 - val_accuracy: 0.9870\n",
      "Epoch 5/10\n",
      "1872/1875 [============================>.] - ETA: 0s - loss: 0.0634 - accuracy: 0.9808"
     ]
    },
    {
     "name": "stderr",
     "output_type": "stream",
     "text": [
      "\u001b[34m\u001b[1mwandb\u001b[0m: \u001b[33mWARNING\u001b[0m No validation_data set, pass a generator to the callback.\n"
     ]
    },
    {
     "name": "stdout",
     "output_type": "stream",
     "text": [
      "1875/1875 [==============================] - 22s 12ms/step - loss: 0.0633 - accuracy: 0.9808 - val_loss: 0.0425 - val_accuracy: 0.9866\n",
      "Epoch 6/10\n",
      "1872/1875 [============================>.] - ETA: 0s - loss: 0.0545 - accuracy: 0.9826"
     ]
    },
    {
     "name": "stderr",
     "output_type": "stream",
     "text": [
      "\u001b[34m\u001b[1mwandb\u001b[0m: \u001b[33mWARNING\u001b[0m No validation_data set, pass a generator to the callback.\n"
     ]
    },
    {
     "name": "stdout",
     "output_type": "stream",
     "text": [
      "1875/1875 [==============================] - 21s 11ms/step - loss: 0.0546 - accuracy: 0.9826 - val_loss: 0.0396 - val_accuracy: 0.9864\n",
      "Epoch 7/10\n",
      "1875/1875 [==============================] - ETA: 0s - loss: 0.0505 - accuracy: 0.9837"
     ]
    },
    {
     "name": "stderr",
     "output_type": "stream",
     "text": [
      "\u001b[34m\u001b[1mwandb\u001b[0m: \u001b[33mWARNING\u001b[0m No validation_data set, pass a generator to the callback.\n"
     ]
    },
    {
     "name": "stdout",
     "output_type": "stream",
     "text": [
      "1875/1875 [==============================] - 21s 11ms/step - loss: 0.0505 - accuracy: 0.9837 - val_loss: 0.0365 - val_accuracy: 0.9885\n",
      "Epoch 8/10\n",
      "1871/1875 [============================>.] - ETA: 0s - loss: 0.0453 - accuracy: 0.9856"
     ]
    },
    {
     "name": "stderr",
     "output_type": "stream",
     "text": [
      "\u001b[34m\u001b[1mwandb\u001b[0m: \u001b[33mWARNING\u001b[0m No validation_data set, pass a generator to the callback.\n"
     ]
    },
    {
     "name": "stdout",
     "output_type": "stream",
     "text": [
      "1875/1875 [==============================] - 21s 11ms/step - loss: 0.0452 - accuracy: 0.9856 - val_loss: 0.0359 - val_accuracy: 0.9883\n",
      "Epoch 9/10\n",
      "1875/1875 [==============================] - ETA: 0s - loss: 0.0422 - accuracy: 0.9861"
     ]
    },
    {
     "name": "stderr",
     "output_type": "stream",
     "text": [
      "\u001b[34m\u001b[1mwandb\u001b[0m: \u001b[33mWARNING\u001b[0m No validation_data set, pass a generator to the callback.\n"
     ]
    },
    {
     "name": "stdout",
     "output_type": "stream",
     "text": [
      "1875/1875 [==============================] - 23s 12ms/step - loss: 0.0422 - accuracy: 0.9861 - val_loss: 0.0363 - val_accuracy: 0.9887\n",
      "Epoch 10/10\n",
      "1870/1875 [============================>.] - ETA: 0s - loss: 0.0382 - accuracy: 0.9872"
     ]
    },
    {
     "name": "stderr",
     "output_type": "stream",
     "text": [
      "\u001b[34m\u001b[1mwandb\u001b[0m: \u001b[33mWARNING\u001b[0m No validation_data set, pass a generator to the callback.\n"
     ]
    },
    {
     "name": "stdout",
     "output_type": "stream",
     "text": [
      "\b\b\b\b\b\b\b\b\b\b\b\b\b\b\b\b\b\b\b\b\b\b\b\b\b\b\b\b\b\b\b\b\b\b\b\b\b\b\b\b\b\b\b\b\b\b\b\b\b\b\b\b\b\b\b\b\b\b\b\b\b\b\b\b\b\b\b\b\b\b\b\b\b\b\b\b\b\b\b\b\b\b\b\b\b\b\r",
      "1875/1875 [==============================] - 21s 11ms/step - loss: 0.0382 - accuracy: 0.9872 - val_loss: 0.0373 - val_accuracy: 0.9889\n"
     ]
    },
    {
     "data": {
      "text/plain": [
       "<keras.callbacks.History at 0x197d842cdf0>"
      ]
     },
     "execution_count": 25,
     "metadata": {},
     "output_type": "execute_result"
    }
   ],
   "source": [
    "#creating model\n",
    "config.first_layer_convs = 32\n",
    "config.first_layer_conv_width = 3\n",
    "config.first_layer_conv_height = 3\n",
    "config.dropout = 0.2\n",
    "config.dense_layer_size = 128\n",
    "config.epochs = 4\n",
    "model = Sequential()\n",
    "model.add(Conv2D(32,\n",
    "                (config.first_layer_conv_width,config.first_layer_conv_height),\n",
    "                input_shape = (28,28,1),\n",
    "                activation = \"relu\"))\n",
    "model.add(MaxPooling2D(pool_size = (2,2)))\n",
    "model.add(Flatten())\n",
    "model.add(Dropout(0.4))\n",
    "model.add(Dense(config.dense_layer_size,activation=\"relu\"))\n",
    "model.add(Dropout(0.4))\n",
    "model.add(Dense(num_classes,activation = \"softmax\"))\n",
    "\n",
    "model.compile(loss = \"categorical_crossentropy\", optimizer = \"adam\",metrics = [\"accuracy\"])\n",
    "model.fit(X_train, y_train, epochs = 10, validation_data = (X_test, y_test), \n",
    "          callbacks = [WandbCallback(labels = labels, data_type = \"image\")])"
   ]
  },
  {
   "cell_type": "code",
   "execution_count": 24,
   "id": "992c2bce",
   "metadata": {},
   "outputs": [
    {
     "name": "stdout",
     "output_type": "stream",
     "text": [
      "Model: \"sequential_4\"\n",
      "_________________________________________________________________\n",
      " Layer (type)                Output Shape              Param #   \n",
      "=================================================================\n",
      " conv2d_3 (Conv2D)           (None, 26, 26, 32)        320       \n",
      "                                                                 \n",
      " max_pooling2d_3 (MaxPooling  (None, 13, 13, 32)       0         \n",
      " 2D)                                                             \n",
      "                                                                 \n",
      " flatten_3 (Flatten)         (None, 5408)              0         \n",
      "                                                                 \n",
      " dense_6 (Dense)             (None, 128)               692352    \n",
      "                                                                 \n",
      " dense_7 (Dense)             (None, 10)                1290      \n",
      "                                                                 \n",
      "=================================================================\n",
      "Total params: 693,962\n",
      "Trainable params: 693,962\n",
      "Non-trainable params: 0\n",
      "_________________________________________________________________\n"
     ]
    }
   ],
   "source": [
    "model.summary()"
   ]
  },
  {
   "cell_type": "code",
   "execution_count": 26,
   "id": "678b9450",
   "metadata": {},
   "outputs": [
    {
     "name": "stdout",
     "output_type": "stream",
     "text": [
      "Model: \"sequential_5\"\n",
      "_________________________________________________________________\n",
      " Layer (type)                Output Shape              Param #   \n",
      "=================================================================\n",
      " conv2d_4 (Conv2D)           (None, 26, 26, 32)        320       \n",
      "                                                                 \n",
      " max_pooling2d_4 (MaxPooling  (None, 13, 13, 32)       0         \n",
      " 2D)                                                             \n",
      "                                                                 \n",
      " flatten_4 (Flatten)         (None, 5408)              0         \n",
      "                                                                 \n",
      " dropout (Dropout)           (None, 5408)              0         \n",
      "                                                                 \n",
      " dense_8 (Dense)             (None, 128)               692352    \n",
      "                                                                 \n",
      " dropout_1 (Dropout)         (None, 128)               0         \n",
      "                                                                 \n",
      " dense_9 (Dense)             (None, 10)                1290      \n",
      "                                                                 \n",
      "=================================================================\n",
      "Total params: 693,962\n",
      "Trainable params: 693,962\n",
      "Non-trainable params: 0\n",
      "_________________________________________________________________\n"
     ]
    }
   ],
   "source": [
    "model.summary()"
   ]
  },
  {
   "cell_type": "code",
   "execution_count": null,
   "id": "ba2d7a93",
   "metadata": {},
   "outputs": [],
   "source": []
  }
 ],
 "metadata": {
  "kernelspec": {
   "display_name": "Python 3 (ipykernel)",
   "language": "python",
   "name": "python3"
  },
  "language_info": {
   "codemirror_mode": {
    "name": "ipython",
    "version": 3
   },
   "file_extension": ".py",
   "mimetype": "text/x-python",
   "name": "python",
   "nbconvert_exporter": "python",
   "pygments_lexer": "ipython3",
   "version": "3.9.7"
  }
 },
 "nbformat": 4,
 "nbformat_minor": 5
}
